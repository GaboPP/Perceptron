{
 "cells": [
  {
   "cell_type": "markdown",
   "metadata": {},
   "source": [
    "<img src=\"http://www.exalumnos.usm.cl/wp-content/uploads/2015/06/Isotipo-Negro.gif\" title=\"Title text\" width=\"20%\" height=\"20%\" />\n",
    "\n",
    "\n",
    "<hr style=\"height:2px;border:none\"/>\n",
    "<h1 align='center'> INF-393 Máquinas de Aprendizaje II-2019 </h1>\n",
    "\n",
    "<H3 align='center'> Tarea 0 - Introducción a Máquinas de Aprendizaje </H3>\n",
    "<hr style=\"height:2px;border:none\"/>\n",
    "\n",
    "**Temas**  \n",
    "* Introducción a librerías comunes de *Machine Learning*:\n",
    "    * Pandas\n",
    "    * Numpy\n",
    "    * Sklearn\n",
    "    * Matplotlib\n",
    "    * Otro..\n",
    "* Implementación de Perceptrón y variantes.\n",
    "* Implementación de método aprendizaje online (Gradiente descendente).\n",
    " \n",
    "\n",
    "** Formalidades **  \n",
    "* Equipos de trabajo de: 2 personas\n",
    "* Se debe preparar un (breve) Jupyter/IPython notebook que explique la actividad realizada y las conclusiones del trabajo\n",
    "* Fecha de entrega: 6 de Septiembre.\n",
    "* Formato de entrega: envı́o de link Github al correo electrónico del ayudante (*<francisco.mena.13@sansano.usm.cl>*) , incluyendo al profesor en copia (*<jnancu@inf.utfsm.cl>*). Por favor especificar el siguiente asunto: [Tarea0-INF393-II-2019]\n",
    "\n",
    "<hr style=\"height:2px;border:none\"/>\n",
    "\n",
    "La tarea se divide en secciones:\n",
    "\n",
    "[1.](#primero) Perceptrón a mano\n",
    "\n",
    "<hr style=\"height:2px;border:none\"/>"
   ]
  },
  {
   "cell_type": "code",
   "execution_count": 88,
   "metadata": {},
   "outputs": [],
   "source": [
    "import numpy as np\n",
    "import matplotlib.pyplot as plt\n",
    "from time import time"
   ]
  },
  {
   "cell_type": "markdown",
   "metadata": {},
   "source": [
    "<a id=\"primero\"></a>\n",
    "## 1. Perceptrón a mano\n",
    "\n",
    "<img src=\"https://miro.medium.com/max/1838/1*n6sJ4yZQzwKL9wnF5wnVNg.png\" width=\"40%\"  />\n",
    "\n",
    "En esta sección se le pedirá que implemente el algoritmo online del *perceptrón* [[2]](#refs) para aprender una función de separación lineal en un problema de clasificación binaria (0 o 1) a través de la función de *treshold*. Un algoritmo online, como el caso del *perceptrón*, aprende de una instancia de dato a la vez $(x^{(i)},y^{(i)})$, dentro de un conjunto de datos $\\{(x^{(1)},y^{(1)}), (x^{(2)},y^{(2)}), \\ldots, (x^{(N)},y^{(N)})  \\}$, donde la predicción de la clase para cada instancia es través de la función de *treshold*:\n",
    "\n",
    "$$\n",
    "\\hat{y_i} = f(x^{(i)};w,b) = \\left\\{ \\begin{array}{lc}\n",
    "       1 &  si \\ \\sum_j w_j \\cdot x^{(i)}_j +b \\geq \\theta \\\\\n",
    "       0 &  si \\ \\sum_j w_j \\cdot x^{(i)}_j +b < \\theta\n",
    "     \\end{array} \\right.\n",
    "$$\n",
    "\n",
    "\n",
    "Donde $\\theta = 0$. Recordar que el *bias* $b$ se puede incluir dentro de los pesos/parámetros $w$ si se agrega una columna extra de 1's a los datos de entrada $x$ (*como se ve en la imagen anterior*). \n",
    "\n",
    "Para lo que sigue de la actividad sólo podrá utilizar *numpy* (para operaciones de algebra lineal).\n",
    "\n",
    "> a) Escriba una función que calcule el valor de salida (*output*) del modelo $f(x)$ para un patrón de entrada $x$ a través de los pesos $w$ del modelo. *Decida si incluir los bias dentro de $w$ o manejarlos de manera separada*."
   ]
  },
  {
   "cell_type": "code",
   "execution_count": 89,
   "metadata": {},
   "outputs": [],
   "source": [
    "def f(x, w, b):\n",
    "    suma = w.dot(x) + b # .dot es una función de numpy que realiza la siguiente operación sum(wj * xj)\n",
    "    return 1*(suma > 0)"
   ]
  },
  {
   "cell_type": "markdown",
   "metadata": {},
   "source": [
    "> b) Escriba una función que implemente el clásico algoritmo del **Perceptrón** para un problema binario que permita entrenarlo en un conjunto de datos de tamaño $N$, leídos de manera *online* (uno a uno). *Recordar la decisión anterior sobre los bias*."
   ]
  },
  {
   "cell_type": "code",
   "execution_count": 90,
   "metadata": {},
   "outputs": [],
   "source": [
    "\n",
    "class Perceptron(object):\n",
    "\n",
    "    def __init__(self, N_inputs, N=1, eta=0.01):\n",
    "        self.N = N\n",
    "        self.eta = eta\n",
    "        self.accuracy = []\n",
    "        self.effective_array = []\n",
    "        self.tiempo_entrenamiento = 0\n",
    "        self.pesos = np.zeros(N_inputs + 1) # mejor resultado\n",
    "        #self.pesos = np.random.randn(N_inputs + 1)\n",
    "           \n",
    "    def predict(self, inputs):\n",
    "        condicion = f(inputs, self.pesos[1:], self.pesos[0])      \n",
    "        return condicion\n",
    "\n",
    "    def train(self, training_inputs, outputs):\n",
    "        tiempo_inicial = time() \n",
    "        for _ in range(self.N):\n",
    "            accuracy = [0]\n",
    "            effective_array = [0]\n",
    "            for entrada, output in zip(training_inputs, outputs):\n",
    "                prediction = self.predict(entrada)\n",
    "                accuracy.append(1*(prediction == output) + accuracy[len(accuracy)-1])\n",
    "                effective_array.append(1+effective_array[len(effective_array)-1])\n",
    "                self.pesos[1:] += self.eta * (output - prediction) * entrada # too w<-w-u*y1*x1\n",
    "                self.pesos[0] += self.eta * (output - prediction)\n",
    "            self.accuracy = accuracy\n",
    "            self.effective_array = effective_array\n",
    "        tiempo_final = time() \n",
    "        self.tiempo_entrenamiento = tiempo_final - tiempo_inicial"
   ]
  },
  {
   "cell_type": "markdown",
   "metadata": {},
   "source": [
    "> c) Demuestre que lo implementado funciona en un problema real de clasificación. Para esto utilice el dataset **Breast cancer wisconsin**, disponible a través de la librería __[*sklearn*](http://scikit-learn.org)__, el cual corresponde a la detección de cancer mamario a través de características relevantes (numéricas continuas) de un examen realizado, como por ejemplo la textura, simetría y tamaño de una masa mamaria. Estas características deben combinarse linealmente para la detección del cancer.\n",
    "> <div class=\"alert alert-block alert-info\">Es una buena práctica el normalizar los datos antes de trabajar con el modelo</div>\n",
    "```python\n",
    "from sklearn.datasets import load_breast_cancer\n",
    "X_train,y_train = load_breast_cancer(return_X_y=True)\n",
    "scaler = StandardScaler().fit(X_train)\n",
    "X_train = scaler.transform(X_train)\n",
    "X_train = np.c_[X_train, np.ones(N) ] #add columns of 1's if you want\n",
    "```\n",
    "Para evaluar los resultados mida la exactitud (*accuracy*) de la clasificación durante el entrenamiento (por cada iteración/instancia/dato) y grafique, utilice el conjunto de entrenamiento realizando una sola pasada (el objetivo de esta sección es familiarizarse con el algoritmo). Además reporte el tiempo de entrenamiento mediante el algoritmo implementado."
   ]
  },
  {
   "cell_type": "code",
   "execution_count": 91,
   "metadata": {},
   "outputs": [],
   "source": [
    "from sklearn.datasets import load_breast_cancer\n",
    "from sklearn.model_selection import train_test_split\n",
    "from sklearn.preprocessing import StandardScaler\n",
    "import matplotlib.pyplot as plt\n",
    "data = load_breast_cancer()"
   ]
  },
  {
   "cell_type": "code",
   "execution_count": 92,
   "metadata": {},
   "outputs": [],
   "source": [
    "x = data.data\n",
    "y = data.target\n",
    "\n",
    "test_size = 0.2\n",
    "random_state = 0\n",
    "\n",
    "X_train, X_test, y_train, y_test = train_test_split(x, y, test_size= test_size, random_state = random_state)\n",
    "\n",
    "# Standarización:\n",
    "sc = StandardScaler()\n",
    "# Ajustar con los datos de entrenamiento\n",
    "sc.fit(X_train)\n",
    "sc.fit(X_test)\n",
    "#Escalar datos de entrenamiento y test\n",
    "X_train_std = sc.transform(X_train)\n",
    "X_test_std = sc.transform(X_test)"
   ]
  },
  {
   "cell_type": "code",
   "execution_count": 93,
   "metadata": {},
   "outputs": [
    {
     "name": "stdout",
     "output_type": "stream",
     "text": [
      "entrenado en 0.02676868438720703 seg\n"
     ]
    }
   ],
   "source": [
    "N = 1\n",
    "eta = 0,1\n",
    "P = Perceptron(X_train_std.shape[1], 1, 0.3)\n",
    "P.train(X_train_std, y_train)\n",
    "print(\"entrenado en {} seg\".format(P.tiempo_entrenamiento))"
   ]
  },
  {
   "cell_type": "code",
   "execution_count": 94,
   "metadata": {},
   "outputs": [],
   "source": [
    "acc = 0\n",
    "predict_array = [0]\n",
    "for i in range(len(X_test_std)):\n",
    "    predict = P.predict(X_test_std[i])\n",
    "    if(predict == y_test[i]):\n",
    "        predict_array.append(acc)\n",
    "        acc+=1"
   ]
  },
  {
   "cell_type": "code",
   "execution_count": 95,
   "metadata": {},
   "outputs": [
    {
     "name": "stdout",
     "output_type": "stream",
     "text": [
      "accuracy test (red): '97'%\n",
      "accuracy training(blue): 95.0%\n",
      "accuracy ideal (green)\n"
     ]
    },
    {
     "data": {
      "image/png": "[encoded data removed]",
      "text/plain": [
       "<Figure size 432x288 with 1 Axes>"
      ]
     },
     "metadata": {
      "needs_background": "light"
     },
     "output_type": "display_data"
    }
   ],
   "source": [
    "print(\"accuracy test (red): '{}'%\".format(round(acc/len(y_test)*100)))\n",
    "print(\"accuracy training(blue): {}%\".format(round(P.accuracy[len(P.accuracy)-1]/len(y_train)*100)))\n",
    "print(\"accuracy ideal (green)\")\n",
    "plt.plot(predict_array, 'r^')\n",
    "plt.plot(P.accuracy, '--')\n",
    "plt.plot(P.effective_array, 'g')\n",
    "plt.xlabel('Datos analizados')\n",
    "plt.ylabel('Cantidad de aciertos')\n",
    "plt.show()"
   ]
  },
  {
   "cell_type": "markdown",
   "metadata": {},
   "source": [
    "> d) Escriba una función que implemente el **Forgetrón** [[3]](#refs) con una memoria de tamaño $K$ y la función de kernel como el producto interno (*inner-product*), esto es $<a,b> = \\sum_i a_i \\cdot b_i$."
   ]
  },
  {
   "cell_type": "markdown",
   "metadata": {},
   "source": [
    "> e) Vuelva a realizar el item c) para el **Forgetrón** con un $K=10$ y compare los resultados."
   ]
  },
  {
   "cell_type": "markdown",
   "metadata": {},
   "source": [
    "##### ¿Qué sucede al variar la función objetivo del problema? \n",
    "Si utilizáramos la función de pérdida *binary cross entropy*, que castiga de manera suave los valores en que se equivoca el modelo a través de que el valor de salida sea una confiabilidad $g(x; w,b) \\in [0,1]$.\n",
    "$$\n",
    "\\ell (y, \\ g(x;w,b)) = - y \\cdot \\log{(g(x;w,b))} - (1-y) \\cdot \\log{(1-g(x;w,b))}\n",
    "$$\n",
    "\n",
    "Realice una modificación al perceptrón para que entregue como salida una confiabilidad continua entre 0 y 1. Una buena aproximación de la función *treshold* (con $\\theta=0$) del perceptrón es la función sigmoidal.\n",
    "\n",
    "<img src=\"https://i.imgur.com/lr6F3Ur.png\" width=\"60%\"  />\n",
    "\n",
    "Ésto sería modelar el perceptrón como:\n",
    "$$\n",
    "g(x^{(i)};w,b) = p(y=1|x^{(i)}) = \\sigma \\left( \\sum_j w_j \\cdot x^{(i)}_j +b \\right)\n",
    "$$\n",
    "\n",
    "Con $\\sigma$ la función sigmoidal de la forma $\\sigma(\\xi) = 1/(1+e^{-\\xi}) $, la cual tiene una derivada cíclica que hace más fácil el cálculo: $\\sigma'(\\xi) = \\sigma(\\xi) (1-\\sigma(\\xi))$\n",
    "\n",
    "> f) Escriba una función que compute la función sigmoidal para una entrada $\\xi$ cualquiera. *Tenga cuidado con los límites de números que puede trabajar python (por ejemplo $\\exp{800}\\rightarrow +\\infty$)*. *Se aconseja acotar/truncar los valores que entran a la función para que la operación se pueda realizar*. Además escriba una función que calcule la salida del nuevo modelo $g(x; w,b)$ con esta función sigmoidal."
   ]
  },
  {
   "cell_type": "code",
   "execution_count": 96,
   "metadata": {},
   "outputs": [],
   "source": [
    "def sigmoidal(𝜉):\n",
    "    exponencial = np.exp(-𝜉) # con numpy no hay problemas de límites, la operación se realiza con éxito\n",
    "    return 1/(1+ exponencial)\n",
    "\n",
    "def G(x,w,b):\n",
    "    return sigmoidal(w.dot(x) + b) # .dot = sum(wj * xj)"
   ]
  },
  {
   "cell_type": "markdown",
   "metadata": {},
   "source": [
    "> g) Escriba una función que calcule la función de pérdida descrita anteriormente para un dato $x^{(i)}$, utilizando $g(x^{(i)};w,b)$. *Tenga cuidado con los límites del logaritmo (recordad que $\\log{0}\\rightarrow +\\infty$)*."
   ]
  },
  {
   "cell_type": "code",
   "execution_count": 97,
   "metadata": {},
   "outputs": [],
   "source": [
    "def Loss_function(y, x,w,b):\n",
    "    g = G(x, w, b)\n",
    "    fun_g = g if(g > 0.1e-322) else 0.1e-322\n",
    "    x = -y*np.log(fun_g)-(1-y)*np.log(1-fun_g)\n",
    "    if(np.log(1-fun_g) > 0):\n",
    "        print('UFF2')\n",
    "        print(fun_g)\n",
    "        print((1-y)*np.log(1 - fun_g))\n",
    "    return x\n"
   ]
  },
  {
   "cell_type": "markdown",
   "metadata": {},
   "source": [
    "> h) Escriba una función que calcule el gradiente (derivada) de la función de pérdida anterior con respecto a los pesos del modelo $w$. *Se recomienda derivarla analíticamente y luego escribirla*. *Recuerde el uso de la regla de la cadena*."
   ]
  },
  {
   "cell_type": "code",
   "execution_count": 98,
   "metadata": {},
   "outputs": [],
   "source": [
    "def gradiente(y, x,w,b):\n",
    "    return (G(x,w,b)-y)*x"
   ]
  },
  {
   "cell_type": "markdown",
   "metadata": {},
   "source": [
    "> i) Realice una modificación al algoritmo implementado en b) (**Perceptrón**) para que se adapte a la función objetivo *binary cross entropy* implementada, para ésto haga uso del algoritmo de optimización SGD [[4]](#refs) (*Stochastic Gradient Descend*) con tasa de aprendizaje $\\eta \\in [0,1]$.\n",
    "\n",
    "$$ \\vec{w}^{(t+1)} \\leftarrow \\vec{w}^{(t)} - \\eta \\cdot \\nabla_{\\vec{w}^{(t)}} \\ell $$"
   ]
  },
  {
   "cell_type": "code",
   "execution_count": 178,
   "metadata": {},
   "outputs": [],
   "source": [
    "\n",
    "class Perceptron_gradiente(object):\n",
    "\n",
    "    def __init__(self, N_inputs, N=1, eta=0.01):\n",
    "        self.N = N\n",
    "        self.eta = eta\n",
    "        self.accuracy = []\n",
    "        self.accuracy2 = []\n",
    "        self.pesos = np.zeros(N_inputs + 1) # mejor resultado\n",
    "        self.Loss = []\n",
    "        self.tiempo_entrenamiento = 0\n",
    "           \n",
    "    def predict(self, inputs):\n",
    "        condicion = G(inputs, self.pesos[1:], self.pesos[0])      \n",
    "        return condicion\n",
    "\n",
    "    def train(self, training_inputs, outputs):\n",
    "        tiempo_inicial = time() \n",
    "        for _ in range(self.N):\n",
    "            accuracy = [0]\n",
    "            accuracy2 = [0]\n",
    "            effective_array = [0]\n",
    "            for entrada, output in zip(training_inputs, outputs):\n",
    "                prediction = self.predict(entrada)\n",
    "                effective_array.append(1+effective_array[len(effective_array)-1])\n",
    "                \n",
    "                self.pesos[1:] -= self.eta * gradiente(output, entrada, self.pesos[1:],self.pesos[0])\n",
    "                self.pesos[0] -= self.eta * (output - prediction)                \n",
    "                \n",
    "                \n",
    "                accuracy.append(1*(1*(prediction>0.5) == output) + accuracy[len(accuracy)-1])\n",
    "                accuracy2.append((1*(1*(prediction>0.5) == output) + accuracy2[len(accuracy2)-1])/len(accuracy2))\n",
    "                self.Loss.append(Loss_function(output, entrada,self.pesos[1:],self.pesos[0]))\n",
    "            self.accuracy = accuracy\n",
    "            self.accuracy2 = accuracy2\n",
    "            self.effective_array = effective_array\n",
    "        tiempo_final = time() \n",
    "        self.tiempo_entrenamiento = tiempo_final - tiempo_inicial"
   ]
  },
  {
   "cell_type": "markdown",
   "metadata": {},
   "source": [
    "> j) Vuelva a realizar el item c) con esta modificación, además grafique la función de pérdida en el transcurso del entrenamiento. Compare los resultados."
   ]
  },
  {
   "cell_type": "code",
   "execution_count": 179,
   "metadata": {},
   "outputs": [
    {
     "name": "stdout",
     "output_type": "stream",
     "text": [
      "entrenado en 0.030039548873901367 seg.\n"
     ]
    }
   ],
   "source": [
    "N = 1\n",
    "P = Perceptron_gradiente(X_train_std.shape[1], N, 0.01)\n",
    "P.train(X_train_std, y_train)\n",
    "print(\"entrenado en {} seg.\".format(P.tiempo_entrenamiento))"
   ]
  },
  {
   "cell_type": "code",
   "execution_count": 180,
   "metadata": {},
   "outputs": [],
   "source": [
    "acc = 0\n",
    "predict_array = [0]\n",
    "for i in range(len(X_test_std)):\n",
    "    predict = P.predict(X_test_std[i])\n",
    "    if(predict == y_test[i]):\n",
    "        predict_array.append(acc)\n",
    "        acc+=1"
   ]
  },
  {
   "cell_type": "code",
   "execution_count": 182,
   "metadata": {},
   "outputs": [
    {
     "name": "stdout",
     "output_type": "stream",
     "text": [
      "accuracy test (red): '0'%\n",
      "accuracy training(blue): 95.0%\n",
      "accuracy ideal (green)\n"
     ]
    },
    {
     "data": {
      "image/png": "[encoded data removed]",
      "text/plain": [
       "<Figure size 432x288 with 1 Axes>"
      ]
     },
     "metadata": {
      "needs_background": "light"
     },
     "output_type": "display_data"
    }
   ],
   "source": [
    "print(\"accuracy test (red): '{}'%\".format(round(acc/len(y_test)*100)))\n",
    "print(\"accuracy training(blue): {}%\".format(round(P.accuracy[len(P.accuracy)-1]/len(y_train)*100)))\n",
    "print(\"accuracy ideal (green)\")\n",
    "# plt.plot(predict_array, 'r^')\n",
    "# plt.plot(P.accuracy, '--')\n",
    "plt.plot(P.accuracy2)\n",
    "# plt.plot(P.effective_array, 'g')\n",
    "plt.xlabel('Datos analizados')\n",
    "plt.ylabel('Cantidad de aciertos')\n",
    "plt.show()"
   ]
  },
  {
   "cell_type": "code",
   "execution_count": 130,
   "metadata": {},
   "outputs": [
    {
     "name": "stdout",
     "output_type": "stream",
     "text": [
      "31\n"
     ]
    },
    {
     "data": {
      "text/plain": [
       "Text(0, 0.5, 'Loss function(W)')"
      ]
     },
     "execution_count": 130,
     "metadata": {},
     "output_type": "execute_result"
    },
    {
     "data": {
      "image/png": "[encoded data removed]",
      "text/plain": [
       "<Figure size 432x288 with 1 Axes>"
      ]
     },
     "metadata": {
      "needs_background": "light"
     },
     "output_type": "display_data"
    }
   ],
   "source": [
    "print(len(P.pesos))\n",
    "# print(P.Loss)\n",
    "# plt.plot(P.Loss[455-31:])\n",
    "plt.plot(P.Loss)\n",
    "plt.xlabel('Iteración')\n",
    "plt.ylabel('Loss function(W)')"
   ]
  },
  {
   "cell_type": "markdown",
   "metadata": {},
   "source": [
    "<a id=\"refs\"></a>\n",
    "### Referencias\n",
    "[1] Hastie, T.; Tibshirani, R., Friedman, J. (2009), *The Elements of Statistical Learning*, Second Edition.\n",
    "Springer New York Inc.  \n",
    "[2] STEPHEN, I. (1990). *Perceptron-based learning algorithms*. IEEE Transactions on neural networks, 50(2), 179.  \n",
    "[3] Dekel, O., Shalev-Shwartz, S., & Singer, Y. (2006). *The Forgetron: A kernel-based perceptron on a fixed budget*. In Advances in neural information processing systems (pp. 259-266).  \n",
    "[4] Ruder, S. (2016). *An overview of gradient descent optimization algorithms*. arXiv preprint arXiv:1609.04747.  "
   ]
  }
 ],
 "metadata": {
  "kernelspec": {
   "display_name": "Python 3",
   "language": "python",
   "name": "python3"
  },
  "language_info": {
   "codemirror_mode": {
    "name": "ipython",
    "version": 3
   },
   "file_extension": ".py",
   "mimetype": "text/x-python",
   "name": "python",
   "nbconvert_exporter": "python",
   "pygments_lexer": "ipython3",
   "version": "3.7.4"
  }
 },
 "nbformat": 4,
 "nbformat_minor": 2
}
